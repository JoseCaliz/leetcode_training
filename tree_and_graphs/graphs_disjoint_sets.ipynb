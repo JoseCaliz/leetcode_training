{
 "cells": [
  {
   "cell_type": "markdown",
   "id": "2b3ba3ef",
   "metadata": {
    "toc": true
   },
   "source": [
    "<h1>Table of Contents<span class=\"tocSkip\"></span></h1>\n",
    "<div class=\"toc\"><ul class=\"toc-item\"><li><span><a href=\"#Information\" data-toc-modified-id=\"Information-1\"><span class=\"toc-item-num\">1&nbsp;&nbsp;</span>Information</a></span></li><li><span><a href=\"#Quick-find\" data-toc-modified-id=\"Quick-find-2\"><span class=\"toc-item-num\">2&nbsp;&nbsp;</span>Quick find</a></span></li><li><span><a href=\"#Quick-Union\" data-toc-modified-id=\"Quick-Union-3\"><span class=\"toc-item-num\">3&nbsp;&nbsp;</span>Quick Union</a></span></li><li><span><a href=\"#Union-By-Rank\" data-toc-modified-id=\"Union-By-Rank-4\"><span class=\"toc-item-num\">4&nbsp;&nbsp;</span>Union By Rank</a></span></li><li><span><a href=\"#Path-Compression\" data-toc-modified-id=\"Path-Compression-5\"><span class=\"toc-item-num\">5&nbsp;&nbsp;</span>Path Compression</a></span></li><li><span><a href=\"#Optimized-With-Path-Comprision-and-Union-By-Rank\" data-toc-modified-id=\"Optimized-With-Path-Comprision-and-Union-By-Rank-6\"><span class=\"toc-item-num\">6&nbsp;&nbsp;</span>Optimized With Path Comprision and Union By Rank</a></span></li></ul></div>"
   ]
  },
  {
   "cell_type": "markdown",
   "id": "1118f787",
   "metadata": {},
   "source": [
    "# Information\n",
    "\n",
    "Un disjoint set en general necesita tres cosas:\n",
    "\n",
    "  1. La función `find` para encontrar el root node de un vertex.\n",
    "  2. La función `union` para unir dos vertices.\n",
    "  3. La función `connectivity` para saber si dos vertices están conectados.\n",
    "  \n",
    "# Quick find  \n",
    "\n",
    "se especiliza en encontrar rápidamente el root node.\n",
    "\n",
    "| |Union-find Constructor | Find |\tUnion |\tConnected|\n",
    "|--|--|--|--|--|\n",
    "|Time Complexity |\tO(N) | O(1) | O(N) | O(1)"
   ]
  },
  {
   "cell_type": "code",
   "execution_count": 2,
   "id": "dbe84821",
   "metadata": {},
   "outputs": [],
   "source": [
    "class UnionFind:\n",
    "    def __init__(self, size):\n",
    "        # root guarda el root node de cada vertex\n",
    "        self.root = [i for i in range(size)]\n",
    "\n",
    "    def find(self, x):\n",
    "        return self.root[x]\n",
    "\n",
    "    def union(self, x, y):\n",
    "        rootX = self.find(x)\n",
    "        rootY = self.find(y)\n",
    "        if rootX != rootY:\n",
    "            for i in range(len(self.root)):\n",
    "                if self.root[i] == rootY:\n",
    "                    self.root[i] = rootX\n",
    "\n",
    "    def connected(self, x, y):\n",
    "        return self.find(x) == self.find(y)"
   ]
  },
  {
   "cell_type": "markdown",
   "id": "a0d1eba4",
   "metadata": {},
   "source": [
    "# Quick Union\n",
    "\n",
    "\n",
    "se especiliza en agregar nuevas uniones de formas más rápidas\n",
    "\n",
    "| |Union-find Constructor | Find |\tUnion |\tConnected|\n",
    "|--|--|--|--|--|\n",
    "|Time Complexity |\tO(N) | O(N) | O(N) | O(N)"
   ]
  },
  {
   "cell_type": "code",
   "execution_count": 3,
   "id": "39b623ad",
   "metadata": {},
   "outputs": [],
   "source": [
    "# UnionFind class\n",
    "class UnionFind:\n",
    "    def __init__(self, size):\n",
    "        self.root = [i for i in range(size)]\n",
    "\n",
    "    def find(self, x):\n",
    "        while x != self.root[x]:\n",
    "            x = self.root[x]\n",
    "        return x\n",
    "    \n",
    "    def union(self, x, y):\n",
    "        rootX = self.find(x)\n",
    "        rootY = self.find(y)\n",
    "        if rootX != rootY:\n",
    "            self.root[rootY] = rootX\n",
    "\n",
    "    def connected(self, x, y):\n",
    "        return self.find(x) == self.find(y)"
   ]
  },
  {
   "cell_type": "markdown",
   "id": "8ec5e9f8",
   "metadata": {},
   "source": [
    "# Union By Rank\n",
    "\n",
    "Mejor para el quick union. Implementa un nuevo array llamado rank que contien la altura del vertice, en general los root nodes son los que más altura tendrán. La unión se hace conservando el root node que tenga más altura.\n",
    "\n",
    "| |Union-find Constructor | Find |\tUnion |\tConnected|\n",
    "|--|--|--|--|--|\n",
    "|Time Complexity |\tO(N) | O(log N) | O(log N) | O(log N)"
   ]
  },
  {
   "cell_type": "code",
   "execution_count": 4,
   "id": "afe82ed5",
   "metadata": {},
   "outputs": [],
   "source": [
    "# UnionFind class\n",
    "class UnionFind:\n",
    "    def __init__(self, size):\n",
    "        self.root = [i for i in range(size)]\n",
    "        self.rank = [1] * size\n",
    "\n",
    "    def find(self, x):\n",
    "        while x != self.root[x]:\n",
    "            x = self.root[x]\n",
    "        return x\n",
    "    \n",
    "    def union(self, x, y):\n",
    "        rootX = self.find(x)\n",
    "        rootY = self.find(y)\n",
    "        if rootX != rootY:\n",
    "            if self.rank[rootX] > self.rank[rootY]:\n",
    "                self.root[rootY] = rootX\n",
    "            elif self.rank[rootX] < self.rank[rootY]:\n",
    "                self.root[rootX] = rootY\n",
    "            else:\n",
    "                self.root[rootY] = rootX\n",
    "                self.rank[rootX] += 1\n",
    "\n",
    "    def connected(self, x, y):\n",
    "        return self.find(x) == self.find(y)"
   ]
  },
  {
   "cell_type": "markdown",
   "id": "0b995d0e",
   "metadata": {},
   "source": [
    "# Path Compression\n",
    "\n",
    "Mejora para el quick union. Actualiza recursivamente los parent nodes de un root node con el fin de que todos apunten al root node y minimizar la cantidad de saltos que debe dar el find para encontar el root node.\n",
    "\n",
    "La actualización ocurre cuando se llama el método `find`\n",
    "\n",
    "| |Union-find Constructor | Find |\tUnion |\tConnected|\n",
    "|--|--|--|--|--|\n",
    "|Time Complexity |\tO(N) | O(log N) | O(log N) | O(log N)"
   ]
  },
  {
   "cell_type": "code",
   "execution_count": null,
   "id": "02e14590",
   "metadata": {},
   "outputs": [],
   "source": [
    "# UnionFind class\n",
    "class UnionFind:\n",
    "    def __init__(self, size):\n",
    "        self.root = [i for i in range(size)]\n",
    "\n",
    "    def find(self, x):\n",
    "        if x == self.root[x]:\n",
    "            return x\n",
    "        self.root[x] = self.find(self.root[x])\n",
    "        return self.root[x]\n",
    "\n",
    "    def union(self, x, y):\n",
    "        rootX = self.find(x)\n",
    "        rootY = self.find(y)\n",
    "        if rootX != rootY:\n",
    "            self.root[rootY] = rootX\n",
    "\n",
    "    def connected(self, x, y):\n",
    "        return self.find(x) == self.find(y)"
   ]
  },
  {
   "cell_type": "markdown",
   "id": "da6b5145",
   "metadata": {},
   "source": [
    "# Optimized With Path Comprision and Union By Rank\n",
    "\n",
    " Lo mejor de los dos mundos.\n",
    " \n",
    "| |Union-find Constructor | Find |\tUnion |\tConnected|\n",
    "|--|--|--|--|--|\n",
    "|Time Complexity |\tO(N) | O($\\alpha$(N)) | O($\\alpha$(N)) | O($\\alpha$(N))\n",
    "\n",
    "Donde $\\alpha$ se refiere a la Funciónd de Ackerman inversa, aunque en general en promedio las complejidades de tiempo tienden a ser O(1)"
   ]
  },
  {
   "cell_type": "code",
   "execution_count": null,
   "id": "c73db7d6",
   "metadata": {},
   "outputs": [],
   "source": [
    "# UnionFind class\n",
    "class UnionFind:\n",
    "    def __init__(self, size):\n",
    "        self.root = [i for i in range(size)]\n",
    "        # Use a rank array to record the height of each vertex, i.e., the \"rank\" of each vertex.\n",
    "        # The initial \"rank\" of each vertex is 1, because each of them is\n",
    "        # a standalone vertex with no connection to other vertices.\n",
    "        self.rank = [1] * size\n",
    "\n",
    "    # The find function here is the same as that in the disjoint set with path compression.\n",
    "    def find(self, x):\n",
    "        if x == self.root[x]:\n",
    "            return x\n",
    "        self.root[x] = self.find(self.root[x])\n",
    "        return self.root[x]\n",
    "\n",
    "    # The union function with union by rank\n",
    "    def union(self, x, y):\n",
    "        rootX = self.find(x)\n",
    "        rootY = self.find(y)\n",
    "        if rootX != rootY:\n",
    "            if self.rank[rootX] > self.rank[rootY]:\n",
    "                self.root[rootY] = rootX\n",
    "            elif self.rank[rootX] < self.rank[rootY]:\n",
    "                self.root[rootX] = rootY\n",
    "            else:\n",
    "                self.root[rootY] = rootX\n",
    "                self.rank[rootX] += 1\n",
    "\n",
    "    def connected(self, x, y):\n",
    "        return self.find(x) == self.find(y)"
   ]
  }
 ],
 "metadata": {
  "kernelspec": {
   "display_name": "JC",
   "language": "python",
   "name": "jc"
  },
  "language_info": {
   "codemirror_mode": {
    "name": "ipython",
    "version": 3
   },
   "file_extension": ".py",
   "mimetype": "text/x-python",
   "name": "python",
   "nbconvert_exporter": "python",
   "pygments_lexer": "ipython3",
   "version": "3.9.10"
  },
  "toc": {
   "base_numbering": 1,
   "nav_menu": {},
   "number_sections": true,
   "sideBar": true,
   "skip_h1_title": false,
   "title_cell": "Table of Contents",
   "title_sidebar": "Contents",
   "toc_cell": true,
   "toc_position": {},
   "toc_section_display": true,
   "toc_window_display": false
  }
 },
 "nbformat": 4,
 "nbformat_minor": 5
}
