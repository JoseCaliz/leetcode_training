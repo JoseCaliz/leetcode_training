{
 "cells": [
  {
   "cell_type": "markdown",
   "id": "02d62cdf",
   "metadata": {
    "toc": true
   },
   "source": [
    "<h1>Table of Contents<span class=\"tocSkip\"></span></h1>\n",
    "<div class=\"toc\"><ul class=\"toc-item\"><li><span><a href=\"#Quicksort\" data-toc-modified-id=\"Quicksort-1\"><span class=\"toc-item-num\">1&nbsp;&nbsp;</span>Quicksort</a></span></li><li><span><a href=\"#QuickSelect\" data-toc-modified-id=\"QuickSelect-2\"><span class=\"toc-item-num\">2&nbsp;&nbsp;</span>QuickSelect</a></span></li></ul></div>"
   ]
  },
  {
   "cell_type": "markdown",
   "id": "e0323a8f",
   "metadata": {},
   "source": [
    "# Quicksort"
   ]
  },
  {
   "cell_type": "code",
   "execution_count": 14,
   "id": "aa30425f",
   "metadata": {},
   "outputs": [
    {
     "name": "stdout",
     "output_type": "stream",
     "text": [
      "Sorted array: [1, 1, 5, 7, 8, 9]\n"
     ]
    }
   ],
   "source": [
    "# Python3 implementation of QuickSort \n",
    "# Function to find the partition position\n",
    "def partition(array, low, high):\n",
    " \n",
    "    # Choose the rightmost element as pivot\n",
    "    pivot = array[high]\n",
    "   \n",
    "    # Pointer for greater element\n",
    "    i = low - 1\n",
    "   \n",
    "    # Traverse through all elements\n",
    "    # compare each element with pivot\n",
    "    for j in range(low, high):\n",
    "        if array[j] <= pivot:\n",
    "            # If element smaller than pivot is found\n",
    "            # swap it with the greater element pointed by i\n",
    "            i = i + 1\n",
    "       \n",
    "            # Swapping element at i with element at j\n",
    "            (array[i], array[j]) = (array[j], array[i])\n",
    "   \n",
    "    # Swap the pivot element with the greater element specified by i\n",
    "    (array[i + 1], array[high]) = (array[high], array[i + 1])\n",
    "   \n",
    "    # Return the position from where partition is done\n",
    "    return i + 1\n",
    " \n",
    "# Function to perform quicksort\n",
    "def quick_sort(array, low, high):\n",
    "    if low < high:\n",
    "        # Find pivot element such that\n",
    "        # element smaller than pivot are on the left\n",
    "        # element greater than pivot are on the right\n",
    "        pi = partition(array, low, high)\n",
    "     \n",
    "        # Recursive call on the left of pivot\n",
    "        quick_sort(array, low, pi - 1)\n",
    "     \n",
    "        # Recursive call on the right of pivot\n",
    "        quick_sort(array, pi + 1, high)\n",
    " \n",
    "   \n",
    "         \n",
    "# Driver code\n",
    "array = [1, 7, 8, 9, 1, 5]\n",
    "quick_sort(array, 0, len(array) - 1)\n",
    " \n",
    "print(f'Sorted array: {array}')\n",
    "# This code is contributed by Adnan Aliakbar"
   ]
  },
  {
   "cell_type": "markdown",
   "id": "398d6f04",
   "metadata": {},
   "source": [
    "# QuickSelect"
   ]
  },
  {
   "cell_type": "code",
   "execution_count": 91,
   "id": "d6e29ead",
   "metadata": {},
   "outputs": [
    {
     "data": {
      "text/plain": [
       "11"
      ]
     },
     "execution_count": 91,
     "metadata": {},
     "output_type": "execute_result"
    }
   ],
   "source": [
    "def partition(left, right, pivot_index):\n",
    "    pivot = nums[pivot_index]\n",
    "    \n",
    "    # 1. move pivot to end\n",
    "    nums[pivot_index], nums[right] = nums[right], nums[pivot_index]  \n",
    "\n",
    "    # 2. move all smaller elements to the left\n",
    "    store_index = left\n",
    "    for i in range(left, right):\n",
    "        if nums[i] < pivot:\n",
    "            nums[store_index], nums[i] = nums[i], nums[store_index]\n",
    "            store_index += 1\n",
    "\n",
    "    # 3. move pivot to its final place\n",
    "    nums[right], nums[store_index] = nums[store_index], nums[right]  \n",
    "    return store_index\n",
    "\n",
    "        \n",
    "def select(left, right, k_smallest):\n",
    "    \"\"\"\n",
    "    Returns the k-th smallest element of list within left..right\n",
    "    \"\"\"\n",
    "    \n",
    "    if left == right:       # If the list contains only one element,\n",
    "        return nums[left]   # return that element\n",
    "\n",
    "    # select a random pivot_index between \n",
    "    pivot_index = right\n",
    "\n",
    "    # find the pivot position in a sorted list   \n",
    "    pivot_index = partition(left, right, pivot_index)\n",
    "\n",
    "    # the pivot is in its final sorted position\n",
    "    if k_smallest == pivot_index:\n",
    "         return nums[k_smallest]\n",
    "        \n",
    "    # go left\n",
    "    elif k_smallest < pivot_index:\n",
    "        return select(left, pivot_index - 1, k_smallest)\n",
    "    # go right\n",
    "    else:\n",
    "        return select(pivot_index + 1, right, k_smallest)\n",
    "\n",
    "nums = [10, 1, 2, 8, 4, 11, 25, 3, 9]\n",
    "k = 2 \n",
    "select(0, len(nums) - 1, len(nums) - k)"
   ]
  }
 ],
 "metadata": {
  "kernelspec": {
   "display_name": "Python 3 (ipykernel)",
   "language": "python",
   "name": "python3"
  },
  "language_info": {
   "codemirror_mode": {
    "name": "ipython",
    "version": 3
   },
   "file_extension": ".py",
   "mimetype": "text/x-python",
   "name": "python",
   "nbconvert_exporter": "python",
   "pygments_lexer": "ipython3",
   "version": "3.9.10"
  },
  "toc": {
   "base_numbering": 1,
   "nav_menu": {},
   "number_sections": true,
   "sideBar": true,
   "skip_h1_title": false,
   "title_cell": "Table of Contents",
   "title_sidebar": "Contents",
   "toc_cell": true,
   "toc_position": {},
   "toc_section_display": true,
   "toc_window_display": false
  }
 },
 "nbformat": 4,
 "nbformat_minor": 5
}
