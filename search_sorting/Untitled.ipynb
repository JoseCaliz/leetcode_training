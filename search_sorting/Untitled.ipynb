{
 "cells": [
  {
   "cell_type": "markdown",
   "id": "654467aa",
   "metadata": {
    "toc": true
   },
   "source": [
    "<h1>Table of Contents<span class=\"tocSkip\"></span></h1>\n",
    "<div class=\"toc\"><ul class=\"toc-item\"><li><span><a href=\"#Binary-Search\" data-toc-modified-id=\"Binary-Search-1\"><span class=\"toc-item-num\">1&nbsp;&nbsp;</span>Binary Search</a></span><ul class=\"toc-item\"><li><span><a href=\"#Template-I\" data-toc-modified-id=\"Template-I-1.1\"><span class=\"toc-item-num\">1.1&nbsp;&nbsp;</span>Template I</a></span></li><li><span><a href=\"#Template-II\" data-toc-modified-id=\"Template-II-1.2\"><span class=\"toc-item-num\">1.2&nbsp;&nbsp;</span>Template II</a></span></li></ul></li></ul></div>"
   ]
  },
  {
   "cell_type": "markdown",
   "id": "56f06297",
   "metadata": {},
   "source": [
    "# Binary Search\n",
    "\n",
    "## Template I"
   ]
  },
  {
   "cell_type": "code",
   "execution_count": null,
   "id": "7d83a8e1",
   "metadata": {},
   "outputs": [],
   "source": [
    "def binarySearch(nums, target):\n",
    "    \"\"\"\n",
    "    :type nums: List[int]\n",
    "    :type target: int\n",
    "    :rtype: int\n",
    "    \"\"\"\n",
    "    if len(nums) == 0:\n",
    "        return -1\n",
    "\n",
    "    left, right = 0, len(nums) - 1\n",
    "    while left <= right:\n",
    "        mid = (left + right) // 2\n",
    "        if nums[mid] == target:\n",
    "            return mid\n",
    "        elif nums[mid] < target:\n",
    "            left = mid + 1\n",
    "        else:\n",
    "            right = mid - 1\n",
    "\n",
    "    # End Condition: left > right\n",
    "    return -1"
   ]
  },
  {
   "cell_type": "markdown",
   "id": "ade62ce0",
   "metadata": {},
   "source": [
    "## Template II"
   ]
  },
  {
   "cell_type": "code",
   "execution_count": null,
   "id": "5b4369ee",
   "metadata": {},
   "outputs": [],
   "source": []
  }
 ],
 "metadata": {
  "kernelspec": {
   "display_name": "JC",
   "language": "python",
   "name": "jc"
  },
  "language_info": {
   "codemirror_mode": {
    "name": "ipython",
    "version": 3
   },
   "file_extension": ".py",
   "mimetype": "text/x-python",
   "name": "python",
   "nbconvert_exporter": "python",
   "pygments_lexer": "ipython3",
   "version": "3.9.10"
  },
  "toc": {
   "base_numbering": 1,
   "nav_menu": {},
   "number_sections": true,
   "sideBar": true,
   "skip_h1_title": false,
   "title_cell": "Table of Contents",
   "title_sidebar": "Contents",
   "toc_cell": true,
   "toc_position": {},
   "toc_section_display": true,
   "toc_window_display": false
  }
 },
 "nbformat": 4,
 "nbformat_minor": 5
}
