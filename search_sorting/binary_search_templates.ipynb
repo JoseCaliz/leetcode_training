{
 "cells": [
  {
   "cell_type": "markdown",
   "id": "339a587b",
   "metadata": {
    "toc": true
   },
   "source": [
    "<h1>Table of Contents<span class=\"tocSkip\"></span></h1>\n",
    "<div class=\"toc\"><ul class=\"toc-item\"><li><span><a href=\"#Binary-Search\" data-toc-modified-id=\"Binary-Search-1\"><span class=\"toc-item-num\">1&nbsp;&nbsp;</span>Binary Search</a></span><ul class=\"toc-item\"><li><span><a href=\"#Template-I\" data-toc-modified-id=\"Template-I-1.1\"><span class=\"toc-item-num\">1.1&nbsp;&nbsp;</span>Template I</a></span></li><li><span><a href=\"#Template-II\" data-toc-modified-id=\"Template-II-1.2\"><span class=\"toc-item-num\">1.2&nbsp;&nbsp;</span>Template II</a></span></li><li><span><a href=\"#Template-III\" data-toc-modified-id=\"Template-III-1.3\"><span class=\"toc-item-num\">1.3&nbsp;&nbsp;</span>Template III</a></span></li></ul></li></ul></div>"
   ]
  },
  {
   "cell_type": "markdown",
   "id": "11661e37",
   "metadata": {},
   "source": [
    "# Binary Search\n",
    "\n",
    "## Template I\n",
    "\n",
    "Solo se garantiza que se acceda a un valor"
   ]
  },
  {
   "cell_type": "code",
   "execution_count": null,
   "id": "6544d381",
   "metadata": {},
   "outputs": [],
   "source": [
    "def binarySearch(nums, target):\n",
    "    \"\"\"\n",
    "    :type nums: List[int]\n",
    "    :type target: int\n",
    "    :rtype: int\n",
    "    \"\"\"\n",
    "    if len(nums) == 0:\n",
    "        return -1\n",
    "\n",
    "    left, right = 0, len(nums) - 1\n",
    "    while left <= right:\n",
    "        mid = (left + right) // 2\n",
    "        if nums[mid] == target:\n",
    "            return mid\n",
    "        elif nums[mid] < target:\n",
    "            left = mid + 1\n",
    "        else:\n",
    "            right = mid - 1\n",
    "\n",
    "    # End Condition: left > right\n",
    "    return -1"
   ]
  },
  {
   "cell_type": "markdown",
   "id": "68ef8318",
   "metadata": {},
   "source": [
    "## Template II\n",
    "\n",
    "Se garantiza que `mid-1` siempre exista entonces la condicion accede al indice y al valor inmediatamente de la derecha."
   ]
  },
  {
   "cell_type": "code",
   "execution_count": null,
   "id": "96638599",
   "metadata": {},
   "outputs": [],
   "source": [
    "def binarySearch(nums, target):\n",
    "    \"\"\"\n",
    "    :type nums: List[int]\n",
    "    :type target: int\n",
    "    :rtype: int\n",
    "    \"\"\"\n",
    "    if len(nums) == 0:\n",
    "        return -1\n",
    "\n",
    "    left, right = 0, len(nums)\n",
    "    while left < right:\n",
    "        mid = (left + right) // 2\n",
    "        print(left, right, mid)\n",
    "        if nums[mid] == target:\n",
    "            return mid\n",
    "        elif nums[mid] < target:\n",
    "            left = mid + 1\n",
    "        else:\n",
    "            right = mid\n",
    "\n",
    "    # Post-processing:\n",
    "    # End Condition: left == right\n",
    "    if left != len(nums) and nums[left] == target:\n",
    "        return left\n",
    "    return -1"
   ]
  },
  {
   "cell_type": "markdown",
   "id": "a0353038",
   "metadata": {},
   "source": [
    "## Template III\n",
    "\n",
    "Se garantiza que hay de elemento a la izquierda y a la derecha"
   ]
  },
  {
   "cell_type": "code",
   "execution_count": null,
   "id": "8743cc2b",
   "metadata": {},
   "outputs": [],
   "source": [
    "def binarySearch(nums, target):\n",
    "    \"\"\"\n",
    "    :type nums: List[int]\n",
    "    :type target: int\n",
    "    :rtype: int\n",
    "    \"\"\"\n",
    "    if len(nums) == 0:\n",
    "        return -1\n",
    "\n",
    "    left, right = 0, len(nums) - 1\n",
    "    while left + 1 < right:\n",
    "        mid = (left + right) // 2\n",
    "        if nums[mid] == target:\n",
    "            return mid\n",
    "        elif nums[mid] < target:\n",
    "            left = mid\n",
    "        else:\n",
    "            right = mid\n",
    "\n",
    "    # Post-processing:\n",
    "    # End Condition: left + 1 == right\n",
    "    if nums[left] == target: return left\n",
    "    if nums[right] == target: return right\n",
    "    return -1"
   ]
  }
 ],
 "metadata": {
  "kernelspec": {
   "display_name": "JC",
   "language": "python",
   "name": "jc"
  },
  "language_info": {
   "codemirror_mode": {
    "name": "ipython",
    "version": 3
   },
   "file_extension": ".py",
   "mimetype": "text/x-python",
   "name": "python",
   "nbconvert_exporter": "python",
   "pygments_lexer": "ipython3",
   "version": "3.9.10"
  },
  "toc": {
   "base_numbering": 1,
   "nav_menu": {},
   "number_sections": true,
   "sideBar": true,
   "skip_h1_title": false,
   "title_cell": "Table of Contents",
   "title_sidebar": "Contents",
   "toc_cell": true,
   "toc_position": {},
   "toc_section_display": true,
   "toc_window_display": false
  }
 },
 "nbformat": 4,
 "nbformat_minor": 5
}
