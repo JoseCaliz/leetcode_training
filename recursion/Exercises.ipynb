{
 "cells": [
  {
   "cell_type": "markdown",
   "id": "58b0a2b5",
   "metadata": {},
   "source": [
    "# Recursion"
   ]
  },
  {
   "cell_type": "markdown",
   "id": "37e27274",
   "metadata": {},
   "source": [
    "##   Letter Combinations of a Phone Number\n",
    "\n",
    "Given a string containing digits from 2-9 inclusive, return all possible letter combinations that the number could represent. Return the answer in any order.\n",
    "\n",
    "A mapping of digit to letters (just like on the telephone buttons) is given below. Note that 1 does not map to any letters.\n",
    "\n",
    "Example 1:\n",
    "```\n",
    "Input: digits = \"23\"\n",
    "Output: [\"ad\",\"ae\",\"af\",\"bd\",\"be\",\"bf\",\"cd\",\"ce\",\"cf\"]\n",
    "```\n",
    "\n",
    "Example 2:\n",
    "```\n",
    "Input: digits = \"\"\n",
    "Output: []\n",
    "```\n",
    "\n",
    "Example 3:\n",
    "\n",
    "```\n",
    "Input: digits = \"2\"\n",
    "Output: [\"a\",\"b\",\"c\"]\n",
    "```"
   ]
  },
  {
   "cell_type": "code",
   "execution_count": 1,
   "id": "f5912c20",
   "metadata": {},
   "outputs": [
    {
     "data": {
      "text/plain": [
       "['ad', 'bd', 'cd', 'ae', 'be', 'ce', 'af', 'bf', 'cf']"
      ]
     },
     "execution_count": 1,
     "metadata": {},
     "output_type": "execute_result"
    }
   ],
   "source": [
    "mappings = {\n",
    "    '2':'abc',\n",
    "    '3':'def',\n",
    "    '4':'ghi',\n",
    "    '5':'jkl',\n",
    "    '6':'mno',\n",
    "    '7':'pqrs',\n",
    "    '8':'tuv',\n",
    "    '9':'wxyz'\n",
    "}\n",
    "\n",
    "def letterCombinations(digits: str) -> list[str]:\n",
    "    if len(digits) == 0:\n",
    "        return []\n",
    "    \n",
    "    if len(digits) == 1:\n",
    "        return list(mappings[digits])\n",
    "    \n",
    "    firs_no = mappings[digits[0]]\n",
    "    remaining = digits[1:]\n",
    "    next_level_maps = letterCombinations(remaining)\n",
    "    return [first_char + p for p in next_level_maps for first_char in firs_no]\n",
    "\n",
    "\n",
    "letterCombinations('23')"
   ]
  },
  {
   "cell_type": "markdown",
   "id": "2373b24e",
   "metadata": {},
   "source": [
    "## Permutations\n",
    "\n",
    "Given an array nums of distinct integers, return all the possible permutations. You can return the answer in any order.\n",
    "\n",
    "Example 1:\n",
    "```\n",
    "Input: nums = [1,2,3]\n",
    "Output: [[1,2,3],[1,3,2],[2,1,3],[2,3,1],[3,1,2],[3,2,1]]\n",
    "```\n",
    "\n",
    "Example 2:\n",
    "\n",
    "```\n",
    "Input: nums = [0,1]\n",
    "Output: [[0,1],[1,0]]\n",
    "```\n",
    "\n",
    "Example 3:\n",
    "```\n",
    "Input: nums = [1]\n",
    "Output: [[1]]\n",
    "```\n",
    "\n",
    "Constraints:\n",
    "\n",
    "```\n",
    "1 <= nums.length <= 6\n",
    "-10 <= nums[i] <= 10\n",
    "All the integers of nums are unique.\n",
    "```"
   ]
  },
  {
   "cell_type": "code",
   "execution_count": 2,
   "id": "252d8209",
   "metadata": {},
   "outputs": [
    {
     "data": {
      "text/plain": [
       "[[1, 2, 3], [1, 3, 2], [2, 1, 3], [2, 3, 1], [3, 1, 2], [3, 2, 1]]"
      ]
     },
     "execution_count": 2,
     "metadata": {},
     "output_type": "execute_result"
    }
   ],
   "source": [
    "def permute(nums: list[int], curr: list[int]=[]) -> list[list[int]]:\n",
    "    if len(curr) == n:\n",
    "        return results.append(curr[:])\n",
    "    \n",
    "    for i, num_i in enumerate(nums):\n",
    "        curr.append(num_i)\n",
    "        nums_ = nums[:i] + nums[i+1:]\n",
    "        permutations = permute(nums_)\n",
    "        curr.pop()\n",
    "        \n",
    "results = []\n",
    "n = 3\n",
    "permute([1, 2, 3])    \n",
    "results"
   ]
  },
  {
   "cell_type": "markdown",
   "id": "df38da6d",
   "metadata": {},
   "source": [
    "## Remove Invalid Parentheses\n",
    "Given a string s that contains parentheses and letters, remove the minimum number of invalid parentheses to make the input string valid.\n",
    "\n",
    "Return all the possible results. You may return the answer in any order.\n",
    "\n",
    "Example 1:\n",
    "```\n",
    "Input: s = \"()())()\"\n",
    "Output: [\"(())()\",\"()()()\"]\n",
    "```\n",
    "Example 2:\n",
    "\n",
    "```\n",
    "Input: s = \"(a)())()\"\n",
    "Output: [\"(a())()\",\"(a)()()\"]\n",
    "```\n",
    "Example 3:\n",
    "\n",
    "```\n",
    "Input: s = \")(\"\n",
    "Output: [\"\"]\n",
    "```\n",
    " \n",
    "\n",
    "Constraints:\n",
    "\n",
    "```\n",
    "1 <= s.length <= 25\n",
    "s consists of lowercase English letters and parentheses '(' and ')'.\n",
    "There will be at most 20 parentheses in s.\n",
    "```"
   ]
  },
  {
   "cell_type": "code",
   "execution_count": 3,
   "id": "95a06283",
   "metadata": {},
   "outputs": [
    {
     "data": {
      "text/plain": [
       "['(a)()()', '(a())()']"
      ]
     },
     "execution_count": 3,
     "metadata": {},
     "output_type": "execute_result"
    }
   ],
   "source": [
    "def get_missplaced(s):\n",
    "    counter_right, counter_left = 0, 0\n",
    "    \n",
    "    # Get all missplaced parenthesis\n",
    "    for i, char_s in enumerate(s):\n",
    "        if char_s == '(':\n",
    "            counter_left += 1\n",
    "        elif char_s == ')' and counter_left > 0:\n",
    "            counter_left -= 1\n",
    "        elif char_s == ')':\n",
    "            counter_right += 1\n",
    "            \n",
    "    return dict(right=counter_right, left=counter_left)\n",
    "\n",
    "def removeInvalidParentheses(s: str, curr_s:str='', c_left=0, c_right=0) -> list[str]:\n",
    "    if (\n",
    "        len(curr_s) == correct_len and\n",
    "        sum(get_missplaced(curr_s).values()) == 0\n",
    "    ):\n",
    "        if curr_s not in results:\n",
    "            results.append(curr_s)\n",
    "       \n",
    "    for i, char_i in enumerate(s):\n",
    "        if char_i not in '()':\n",
    "            curr_s += char_i\n",
    "            continue\n",
    "            \n",
    "        curr_s += char_i \n",
    "        removeInvalidParentheses(s[i+1:], curr_s, c_left, c_right)\n",
    "        curr_s = curr_s[:-1]\n",
    "        \n",
    "        if char_i == '(':\n",
    "            c_left += 1\n",
    "        else:\n",
    "            c_right += 1\n",
    "        \n",
    "        removeInvalidParentheses(s[i+1:], curr_s, c_left, c_right)\n",
    "    return\n",
    "        \n",
    "test = '(a)())()'\n",
    "counters = get_missplaced(test)\n",
    "correct_len = len(test) - sum(counters.values())\n",
    "\n",
    "results = []\n",
    "removeInvalidParentheses(test)\n",
    "results"
   ]
  },
  {
   "cell_type": "markdown",
   "id": "73fe2d05",
   "metadata": {},
   "source": [
    "##   Strobogrammatic Number II\n",
    "\n",
    "Given an integer n, return all the strobogrammatic numbers that are of length n. You may return the answer in any order.\n",
    "\n",
    "A strobogrammatic number is a number that looks the same when rotated 180 degrees (looked at upside down).\n",
    " \n",
    "\n",
    "Example 1:\n",
    "```\n",
    "Input: n = 2\n",
    "Output: [\"11\",\"69\",\"88\",\"96\"]\n",
    "```\n",
    "Example 2:\n",
    "\n",
    "```\n",
    "Input: n = 1\n",
    "Output: [\"0\",\"1\",\"8\"]\n",
    "```\n",
    "\n",
    "Constraints:\n",
    "\n",
    "```\n",
    "1 <= n <= 14\n",
    "```"
   ]
  },
  {
   "cell_type": "code",
   "execution_count": 26,
   "id": "bb640c42",
   "metadata": {},
   "outputs": [
    {
     "name": "stdout",
     "output_type": "stream",
     "text": [
      "['100', '111', '188', '800', '811', '888', '600', '611', '688', '900', '911', '988']\n"
     ]
    }
   ],
   "source": [
    "mappings = {'0':'0', '1':'1', '8':'8', '6':'9', '9':'6'}\n",
    "\n",
    "def findStrobogrammatic(n: int, curr:str = '') -> list[str]:\n",
    "    \n",
    "    if n == 1:\n",
    "        return ['0', '1', '8']\n",
    "    \n",
    "    if len(curr) == (n+1)//2:\n",
    "        res = ''.join(map(lambda x: mappings[x], curr))\n",
    "        if n%2 == 0:\n",
    "            results.append(curr + res) \n",
    "        elif n%2 == 1 and curr[-1] in ['0', '1', '8']:\n",
    "            results.append(curr + res[1:]) \n",
    "        else:\n",
    "            pass\n",
    "        return\n",
    "    \n",
    "    for char in mappings.keys():\n",
    "        if len(curr) == 0 and char == '0':\n",
    "            continue\n",
    "            \n",
    "        curr += char\n",
    "        findStrobogrammatic(n, curr)\n",
    "        curr = curr[:-1]\n",
    "        \n",
    "test = 3\n",
    "results = []\n",
    "findStrobogrammatic(test)\n",
    "print(results)"
   ]
  }
 ],
 "metadata": {
  "kernelspec": {
   "display_name": "Python 3 (ipykernel)",
   "language": "python",
   "name": "python3"
  },
  "language_info": {
   "codemirror_mode": {
    "name": "ipython",
    "version": 3
   },
   "file_extension": ".py",
   "mimetype": "text/x-python",
   "name": "python",
   "nbconvert_exporter": "python",
   "pygments_lexer": "ipython3",
   "version": "3.9.1"
  },
  "toc": {
   "base_numbering": 1,
   "nav_menu": {},
   "number_sections": true,
   "sideBar": true,
   "skip_h1_title": false,
   "title_cell": "Table of Contents",
   "title_sidebar": "Contents",
   "toc_cell": false,
   "toc_position": {},
   "toc_section_display": true,
   "toc_window_display": true
  }
 },
 "nbformat": 4,
 "nbformat_minor": 5
}
